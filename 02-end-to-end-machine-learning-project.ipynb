{
 "cells": [
  {
   "cell_type": "code",
   "execution_count": 1,
   "id": "c1138c11",
   "metadata": {
    "_cell_guid": "b1076dfc-b9ad-4769-8c92-a6c4dae69d19",
    "_uuid": "8f2839f25d086af736a60e9eeb907d3b93b6e0e5",
    "execution": {
     "iopub.execute_input": "2025-03-04T08:04:37.706874Z",
     "iopub.status.busy": "2025-03-04T08:04:37.706372Z",
     "iopub.status.idle": "2025-03-04T08:04:38.671954Z",
     "shell.execute_reply": "2025-03-04T08:04:38.670357Z"
    },
    "papermill": {
     "duration": 0.9777,
     "end_time": "2025-03-04T08:04:38.673941",
     "exception": false,
     "start_time": "2025-03-04T08:04:37.696241",
     "status": "completed"
    },
    "tags": []
   },
   "outputs": [
    {
     "name": "stdout",
     "output_type": "stream",
     "text": [
      "/kaggle/input/housing-dataset/housing.csv\n"
     ]
    }
   ],
   "source": [
    "# This Python 3 environment comes with many helpful analytics libraries installed\n",
    "# It is defined by the kaggle/python Docker image: https://github.com/kaggle/docker-python\n",
    "# For example, here's several helpful packages to load\n",
    "\n",
    "import numpy as np # linear algebra\n",
    "import pandas as pd # data processing, CSV file I/O (e.g. pd.read_csv)\n",
    "\n",
    "# Input data files are available in the read-only \"../input/\" directory\n",
    "# For example, running this (by clicking run or pressing Shift+Enter) will list all files under the input directory\n",
    "\n",
    "import os\n",
    "for dirname, _, filenames in os.walk('/kaggle/input'):\n",
    "    for filename in filenames:\n",
    "        print(os.path.join(dirname, filename))\n",
    "\n",
    "# You can write up to 20GB to the current directory (/kaggle/working/) that gets preserved as output when you create a version using \"Save & Run All\" \n",
    "# You can also write temporary files to /kaggle/temp/, but they won't be saved outside of the current session"
   ]
  },
  {
   "cell_type": "markdown",
   "id": "a17d72d4",
   "metadata": {
    "papermill": {
     "duration": 0.0088,
     "end_time": "2025-03-04T08:04:38.691450",
     "exception": false,
     "start_time": "2025-03-04T08:04:38.682650",
     "status": "completed"
    },
    "tags": []
   },
   "source": [
    "# Get the Data\n",
    "\n",
    "_Welcome to Machine Learning Housing Corp.! Your task is to **predict median house values**#  in California districts, given a number of features from these districts._"
   ]
  },
  {
   "cell_type": "markdown",
   "id": "0bc016a8",
   "metadata": {
    "papermill": {
     "duration": 0.007833,
     "end_time": "2025-03-04T08:04:38.706847",
     "exception": false,
     "start_time": "2025-03-04T08:04:38.699014",
     "status": "completed"
    },
    "tags": []
   },
   "source": [
    "## Download the Data"
   ]
  },
  {
   "cell_type": "code",
   "execution_count": 2,
   "id": "dce24d60",
   "metadata": {
    "execution": {
     "iopub.execute_input": "2025-03-04T08:04:38.723777Z",
     "iopub.status.busy": "2025-03-04T08:04:38.723222Z",
     "iopub.status.idle": "2025-03-04T08:04:38.727585Z",
     "shell.execute_reply": "2025-03-04T08:04:38.726341Z"
    },
    "papermill": {
     "duration": 0.014984,
     "end_time": "2025-03-04T08:04:38.729460",
     "exception": false,
     "start_time": "2025-03-04T08:04:38.714476",
     "status": "completed"
    },
    "tags": []
   },
   "outputs": [],
   "source": [
    "# fetch the data\n",
    "# from pathlib import Path\n",
    "# import tarfile\n",
    "# import urllib.request\n",
    "\n",
    "# def load_housing_data():\n",
    "#     tarball_path = Path(\"datasets/housing.tgz\")\n",
    "#     if not tarball_path.is_file():\n",
    "#         Path(\"datasets\").mkdir(parents=True, exist_ok=True)\n",
    "#         url = \"https://github.com/ageron/data/raw/main/housing.tgz\"\n",
    "#         urllib.request.urlretrieve(url, tarball_path)\n",
    "#     with tarfile.open(tarball_path) as housing_tarball:\n",
    "#             housing_tarball.extractall(path=\"datasets\")\n",
    "#     return pd.read_csv(Path(\"datasets/housing/housing.csv\"))\n",
    "\n",
    "# housing = load_housing_data()"
   ]
  },
  {
   "cell_type": "markdown",
   "id": "4450b68b",
   "metadata": {
    "papermill": {
     "duration": 0.007335,
     "end_time": "2025-03-04T08:04:38.744573",
     "exception": false,
     "start_time": "2025-03-04T08:04:38.737238",
     "status": "completed"
    },
    "tags": []
   },
   "source": [
    "## Another option of getting data"
   ]
  },
  {
   "cell_type": "code",
   "execution_count": 3,
   "id": "8c494860",
   "metadata": {
    "execution": {
     "iopub.execute_input": "2025-03-04T08:04:38.761592Z",
     "iopub.status.busy": "2025-03-04T08:04:38.761205Z",
     "iopub.status.idle": "2025-03-04T08:04:38.820279Z",
     "shell.execute_reply": "2025-03-04T08:04:38.819290Z"
    },
    "papermill": {
     "duration": 0.069866,
     "end_time": "2025-03-04T08:04:38.822115",
     "exception": false,
     "start_time": "2025-03-04T08:04:38.752249",
     "status": "completed"
    },
    "tags": []
   },
   "outputs": [],
   "source": [
    "housing = pd.read_csv(\"/kaggle/input/housing-dataset/housing.csv\")"
   ]
  },
  {
   "cell_type": "markdown",
   "id": "fe437f1a",
   "metadata": {
    "papermill": {
     "duration": 0.00745,
     "end_time": "2025-03-04T08:04:38.837431",
     "exception": false,
     "start_time": "2025-03-04T08:04:38.829981",
     "status": "completed"
    },
    "tags": []
   },
   "source": [
    "## Take a Quick Look at the Data Structure"
   ]
  },
  {
   "cell_type": "code",
   "execution_count": 4,
   "id": "5fd59b53",
   "metadata": {
    "execution": {
     "iopub.execute_input": "2025-03-04T08:04:38.853823Z",
     "iopub.status.busy": "2025-03-04T08:04:38.853421Z",
     "iopub.status.idle": "2025-03-04T08:04:38.886224Z",
     "shell.execute_reply": "2025-03-04T08:04:38.885151Z"
    },
    "papermill": {
     "duration": 0.043052,
     "end_time": "2025-03-04T08:04:38.888024",
     "exception": false,
     "start_time": "2025-03-04T08:04:38.844972",
     "status": "completed"
    },
    "tags": []
   },
   "outputs": [
    {
     "data": {
      "text/html": [
       "<div>\n",
       "<style scoped>\n",
       "    .dataframe tbody tr th:only-of-type {\n",
       "        vertical-align: middle;\n",
       "    }\n",
       "\n",
       "    .dataframe tbody tr th {\n",
       "        vertical-align: top;\n",
       "    }\n",
       "\n",
       "    .dataframe thead th {\n",
       "        text-align: right;\n",
       "    }\n",
       "</style>\n",
       "<table border=\"1\" class=\"dataframe\">\n",
       "  <thead>\n",
       "    <tr style=\"text-align: right;\">\n",
       "      <th></th>\n",
       "      <th>longitude</th>\n",
       "      <th>latitude</th>\n",
       "      <th>housing_median_age</th>\n",
       "      <th>total_rooms</th>\n",
       "      <th>total_bedrooms</th>\n",
       "      <th>population</th>\n",
       "      <th>households</th>\n",
       "      <th>median_income</th>\n",
       "      <th>median_house_value</th>\n",
       "      <th>ocean_proximity</th>\n",
       "    </tr>\n",
       "  </thead>\n",
       "  <tbody>\n",
       "    <tr>\n",
       "      <th>0</th>\n",
       "      <td>-122.23</td>\n",
       "      <td>37.88</td>\n",
       "      <td>41.0</td>\n",
       "      <td>880.0</td>\n",
       "      <td>129.0</td>\n",
       "      <td>322.0</td>\n",
       "      <td>126.0</td>\n",
       "      <td>8.3252</td>\n",
       "      <td>452600.0</td>\n",
       "      <td>NEAR BAY</td>\n",
       "    </tr>\n",
       "    <tr>\n",
       "      <th>1</th>\n",
       "      <td>-122.22</td>\n",
       "      <td>37.86</td>\n",
       "      <td>21.0</td>\n",
       "      <td>7099.0</td>\n",
       "      <td>1106.0</td>\n",
       "      <td>2401.0</td>\n",
       "      <td>1138.0</td>\n",
       "      <td>8.3014</td>\n",
       "      <td>358500.0</td>\n",
       "      <td>NEAR BAY</td>\n",
       "    </tr>\n",
       "    <tr>\n",
       "      <th>2</th>\n",
       "      <td>-122.24</td>\n",
       "      <td>37.85</td>\n",
       "      <td>52.0</td>\n",
       "      <td>1467.0</td>\n",
       "      <td>190.0</td>\n",
       "      <td>496.0</td>\n",
       "      <td>177.0</td>\n",
       "      <td>7.2574</td>\n",
       "      <td>352100.0</td>\n",
       "      <td>NEAR BAY</td>\n",
       "    </tr>\n",
       "    <tr>\n",
       "      <th>3</th>\n",
       "      <td>-122.25</td>\n",
       "      <td>37.85</td>\n",
       "      <td>52.0</td>\n",
       "      <td>1274.0</td>\n",
       "      <td>235.0</td>\n",
       "      <td>558.0</td>\n",
       "      <td>219.0</td>\n",
       "      <td>5.6431</td>\n",
       "      <td>341300.0</td>\n",
       "      <td>NEAR BAY</td>\n",
       "    </tr>\n",
       "    <tr>\n",
       "      <th>4</th>\n",
       "      <td>-122.25</td>\n",
       "      <td>37.85</td>\n",
       "      <td>52.0</td>\n",
       "      <td>1627.0</td>\n",
       "      <td>280.0</td>\n",
       "      <td>565.0</td>\n",
       "      <td>259.0</td>\n",
       "      <td>3.8462</td>\n",
       "      <td>342200.0</td>\n",
       "      <td>NEAR BAY</td>\n",
       "    </tr>\n",
       "  </tbody>\n",
       "</table>\n",
       "</div>"
      ],
      "text/plain": [
       "   longitude  latitude  housing_median_age  total_rooms  total_bedrooms  \\\n",
       "0    -122.23     37.88                41.0        880.0           129.0   \n",
       "1    -122.22     37.86                21.0       7099.0          1106.0   \n",
       "2    -122.24     37.85                52.0       1467.0           190.0   \n",
       "3    -122.25     37.85                52.0       1274.0           235.0   \n",
       "4    -122.25     37.85                52.0       1627.0           280.0   \n",
       "\n",
       "   population  households  median_income  median_house_value ocean_proximity  \n",
       "0       322.0       126.0         8.3252            452600.0        NEAR BAY  \n",
       "1      2401.0      1138.0         8.3014            358500.0        NEAR BAY  \n",
       "2       496.0       177.0         7.2574            352100.0        NEAR BAY  \n",
       "3       558.0       219.0         5.6431            341300.0        NEAR BAY  \n",
       "4       565.0       259.0         3.8462            342200.0        NEAR BAY  "
      ]
     },
     "execution_count": 4,
     "metadata": {},
     "output_type": "execute_result"
    }
   ],
   "source": [
    "housing.head()"
   ]
  },
  {
   "cell_type": "markdown",
   "id": "c094cca5",
   "metadata": {
    "papermill": {
     "duration": 0.007431,
     "end_time": "2025-03-04T08:04:38.903584",
     "exception": false,
     "start_time": "2025-03-04T08:04:38.896153",
     "status": "completed"
    },
    "tags": []
   },
   "source": [
    "To get the quick description of the data (total number of rows, attribute's type, and the number of non-null values):"
   ]
  },
  {
   "cell_type": "code",
   "execution_count": 5,
   "id": "fd899be2",
   "metadata": {
    "execution": {
     "iopub.execute_input": "2025-03-04T08:04:38.920345Z",
     "iopub.status.busy": "2025-03-04T08:04:38.919935Z",
     "iopub.status.idle": "2025-03-04T08:04:38.950332Z",
     "shell.execute_reply": "2025-03-04T08:04:38.948982Z"
    },
    "papermill": {
     "duration": 0.041041,
     "end_time": "2025-03-04T08:04:38.952301",
     "exception": false,
     "start_time": "2025-03-04T08:04:38.911260",
     "status": "completed"
    },
    "tags": []
   },
   "outputs": [
    {
     "name": "stdout",
     "output_type": "stream",
     "text": [
      "<class 'pandas.core.frame.DataFrame'>\n",
      "RangeIndex: 20640 entries, 0 to 20639\n",
      "Data columns (total 10 columns):\n",
      " #   Column              Non-Null Count  Dtype  \n",
      "---  ------              --------------  -----  \n",
      " 0   longitude           20640 non-null  float64\n",
      " 1   latitude            20640 non-null  float64\n",
      " 2   housing_median_age  20640 non-null  float64\n",
      " 3   total_rooms         20640 non-null  float64\n",
      " 4   total_bedrooms      20433 non-null  float64\n",
      " 5   population          20640 non-null  float64\n",
      " 6   households          20640 non-null  float64\n",
      " 7   median_income       20640 non-null  float64\n",
      " 8   median_house_value  20640 non-null  float64\n",
      " 9   ocean_proximity     20640 non-null  object \n",
      "dtypes: float64(9), object(1)\n",
      "memory usage: 1.6+ MB\n"
     ]
    }
   ],
   "source": [
    "housing.info()"
   ]
  },
  {
   "cell_type": "markdown",
   "id": "6b49c1d7",
   "metadata": {
    "papermill": {
     "duration": 0.008378,
     "end_time": "2025-03-04T08:04:38.969512",
     "exception": false,
     "start_time": "2025-03-04T08:04:38.961134",
     "status": "completed"
    },
    "tags": []
   },
   "source": [
    "The \"ocean_proximity\" column was repetitive, meaning it is probably a categorical attribute. To find out what categories exist and how many districts belong to each category by using the value_counts() method:"
   ]
  },
  {
   "cell_type": "code",
   "execution_count": 6,
   "id": "7cab8a3e",
   "metadata": {
    "execution": {
     "iopub.execute_input": "2025-03-04T08:04:38.988691Z",
     "iopub.status.busy": "2025-03-04T08:04:38.988342Z",
     "iopub.status.idle": "2025-03-04T08:04:38.998386Z",
     "shell.execute_reply": "2025-03-04T08:04:38.997196Z"
    },
    "papermill": {
     "duration": 0.02266,
     "end_time": "2025-03-04T08:04:39.000063",
     "exception": false,
     "start_time": "2025-03-04T08:04:38.977403",
     "status": "completed"
    },
    "tags": []
   },
   "outputs": [
    {
     "data": {
      "text/plain": [
       "ocean_proximity\n",
       "<1H OCEAN     9136\n",
       "INLAND        6551\n",
       "NEAR OCEAN    2658\n",
       "NEAR BAY      2290\n",
       "ISLAND           5\n",
       "Name: count, dtype: int64"
      ]
     },
     "execution_count": 6,
     "metadata": {},
     "output_type": "execute_result"
    }
   ],
   "source": [
    "housing['ocean_proximity'].value_counts()"
   ]
  },
  {
   "cell_type": "markdown",
   "id": "9c70201c",
   "metadata": {
    "papermill": {
     "duration": 0.007668,
     "end_time": "2025-03-04T08:04:39.015776",
     "exception": false,
     "start_time": "2025-03-04T08:04:39.008108",
     "status": "completed"
    },
    "tags": []
   },
   "source": [
    "To show the summary of the numerical attributes, we will use describe() method."
   ]
  },
  {
   "cell_type": "code",
   "execution_count": 7,
   "id": "f0aae82b",
   "metadata": {
    "execution": {
     "iopub.execute_input": "2025-03-04T08:04:39.034194Z",
     "iopub.status.busy": "2025-03-04T08:04:39.033768Z",
     "iopub.status.idle": "2025-03-04T08:04:39.075008Z",
     "shell.execute_reply": "2025-03-04T08:04:39.073948Z"
    },
    "papermill": {
     "duration": 0.052222,
     "end_time": "2025-03-04T08:04:39.076694",
     "exception": false,
     "start_time": "2025-03-04T08:04:39.024472",
     "status": "completed"
    },
    "tags": []
   },
   "outputs": [
    {
     "data": {
      "text/html": [
       "<div>\n",
       "<style scoped>\n",
       "    .dataframe tbody tr th:only-of-type {\n",
       "        vertical-align: middle;\n",
       "    }\n",
       "\n",
       "    .dataframe tbody tr th {\n",
       "        vertical-align: top;\n",
       "    }\n",
       "\n",
       "    .dataframe thead th {\n",
       "        text-align: right;\n",
       "    }\n",
       "</style>\n",
       "<table border=\"1\" class=\"dataframe\">\n",
       "  <thead>\n",
       "    <tr style=\"text-align: right;\">\n",
       "      <th></th>\n",
       "      <th>longitude</th>\n",
       "      <th>latitude</th>\n",
       "      <th>housing_median_age</th>\n",
       "      <th>total_rooms</th>\n",
       "      <th>total_bedrooms</th>\n",
       "      <th>population</th>\n",
       "      <th>households</th>\n",
       "      <th>median_income</th>\n",
       "      <th>median_house_value</th>\n",
       "    </tr>\n",
       "  </thead>\n",
       "  <tbody>\n",
       "    <tr>\n",
       "      <th>count</th>\n",
       "      <td>20640.000000</td>\n",
       "      <td>20640.000000</td>\n",
       "      <td>20640.000000</td>\n",
       "      <td>20640.000000</td>\n",
       "      <td>20433.000000</td>\n",
       "      <td>20640.000000</td>\n",
       "      <td>20640.000000</td>\n",
       "      <td>20640.000000</td>\n",
       "      <td>20640.000000</td>\n",
       "    </tr>\n",
       "    <tr>\n",
       "      <th>mean</th>\n",
       "      <td>-119.569704</td>\n",
       "      <td>35.631861</td>\n",
       "      <td>28.639486</td>\n",
       "      <td>2635.763081</td>\n",
       "      <td>537.870553</td>\n",
       "      <td>1425.476744</td>\n",
       "      <td>499.539680</td>\n",
       "      <td>3.870671</td>\n",
       "      <td>206855.816909</td>\n",
       "    </tr>\n",
       "    <tr>\n",
       "      <th>std</th>\n",
       "      <td>2.003532</td>\n",
       "      <td>2.135952</td>\n",
       "      <td>12.585558</td>\n",
       "      <td>2181.615252</td>\n",
       "      <td>421.385070</td>\n",
       "      <td>1132.462122</td>\n",
       "      <td>382.329753</td>\n",
       "      <td>1.899822</td>\n",
       "      <td>115395.615874</td>\n",
       "    </tr>\n",
       "    <tr>\n",
       "      <th>min</th>\n",
       "      <td>-124.350000</td>\n",
       "      <td>32.540000</td>\n",
       "      <td>1.000000</td>\n",
       "      <td>2.000000</td>\n",
       "      <td>1.000000</td>\n",
       "      <td>3.000000</td>\n",
       "      <td>1.000000</td>\n",
       "      <td>0.499900</td>\n",
       "      <td>14999.000000</td>\n",
       "    </tr>\n",
       "    <tr>\n",
       "      <th>25%</th>\n",
       "      <td>-121.800000</td>\n",
       "      <td>33.930000</td>\n",
       "      <td>18.000000</td>\n",
       "      <td>1447.750000</td>\n",
       "      <td>296.000000</td>\n",
       "      <td>787.000000</td>\n",
       "      <td>280.000000</td>\n",
       "      <td>2.563400</td>\n",
       "      <td>119600.000000</td>\n",
       "    </tr>\n",
       "    <tr>\n",
       "      <th>50%</th>\n",
       "      <td>-118.490000</td>\n",
       "      <td>34.260000</td>\n",
       "      <td>29.000000</td>\n",
       "      <td>2127.000000</td>\n",
       "      <td>435.000000</td>\n",
       "      <td>1166.000000</td>\n",
       "      <td>409.000000</td>\n",
       "      <td>3.534800</td>\n",
       "      <td>179700.000000</td>\n",
       "    </tr>\n",
       "    <tr>\n",
       "      <th>75%</th>\n",
       "      <td>-118.010000</td>\n",
       "      <td>37.710000</td>\n",
       "      <td>37.000000</td>\n",
       "      <td>3148.000000</td>\n",
       "      <td>647.000000</td>\n",
       "      <td>1725.000000</td>\n",
       "      <td>605.000000</td>\n",
       "      <td>4.743250</td>\n",
       "      <td>264725.000000</td>\n",
       "    </tr>\n",
       "    <tr>\n",
       "      <th>max</th>\n",
       "      <td>-114.310000</td>\n",
       "      <td>41.950000</td>\n",
       "      <td>52.000000</td>\n",
       "      <td>39320.000000</td>\n",
       "      <td>6445.000000</td>\n",
       "      <td>35682.000000</td>\n",
       "      <td>6082.000000</td>\n",
       "      <td>15.000100</td>\n",
       "      <td>500001.000000</td>\n",
       "    </tr>\n",
       "  </tbody>\n",
       "</table>\n",
       "</div>"
      ],
      "text/plain": [
       "          longitude      latitude  housing_median_age   total_rooms  \\\n",
       "count  20640.000000  20640.000000        20640.000000  20640.000000   \n",
       "mean    -119.569704     35.631861           28.639486   2635.763081   \n",
       "std        2.003532      2.135952           12.585558   2181.615252   \n",
       "min     -124.350000     32.540000            1.000000      2.000000   \n",
       "25%     -121.800000     33.930000           18.000000   1447.750000   \n",
       "50%     -118.490000     34.260000           29.000000   2127.000000   \n",
       "75%     -118.010000     37.710000           37.000000   3148.000000   \n",
       "max     -114.310000     41.950000           52.000000  39320.000000   \n",
       "\n",
       "       total_bedrooms    population    households  median_income  \\\n",
       "count    20433.000000  20640.000000  20640.000000   20640.000000   \n",
       "mean       537.870553   1425.476744    499.539680       3.870671   \n",
       "std        421.385070   1132.462122    382.329753       1.899822   \n",
       "min          1.000000      3.000000      1.000000       0.499900   \n",
       "25%        296.000000    787.000000    280.000000       2.563400   \n",
       "50%        435.000000   1166.000000    409.000000       3.534800   \n",
       "75%        647.000000   1725.000000    605.000000       4.743250   \n",
       "max       6445.000000  35682.000000   6082.000000      15.000100   \n",
       "\n",
       "       median_house_value  \n",
       "count        20640.000000  \n",
       "mean        206855.816909  \n",
       "std         115395.615874  \n",
       "min          14999.000000  \n",
       "25%         119600.000000  \n",
       "50%         179700.000000  \n",
       "75%         264725.000000  \n",
       "max         500001.000000  "
      ]
     },
     "execution_count": 7,
     "metadata": {},
     "output_type": "execute_result"
    }
   ],
   "source": [
    "housing.describe()"
   ]
  },
  {
   "cell_type": "code",
   "execution_count": 8,
   "id": "dc98218f",
   "metadata": {
    "execution": {
     "iopub.execute_input": "2025-03-04T08:04:39.094758Z",
     "iopub.status.busy": "2025-03-04T08:04:39.094383Z",
     "iopub.status.idle": "2025-03-04T08:04:39.100297Z",
     "shell.execute_reply": "2025-03-04T08:04:39.099157Z"
    },
    "papermill": {
     "duration": 0.016944,
     "end_time": "2025-03-04T08:04:39.102161",
     "exception": false,
     "start_time": "2025-03-04T08:04:39.085217",
     "status": "completed"
    },
    "tags": []
   },
   "outputs": [],
   "source": [
    "from pathlib import Path\n",
    "IMAGES_PATH = Path() / \"images\" / \"end_to_end_project\"\n",
    "IMAGES_PATH.mkdir(parents = True, exist_ok=True)\n",
    "\n",
    "def save_fig(fig_id, tight_layout=True, fig_extension='png', resolution=300):\n",
    "    path = IMAGES_PATH / f\"{fig_id}.{fig_extension}\"\n",
    "    if tight_layout:\n",
    "        plt.tight_layout()\n",
    "    plt.savefig(path, format=fig_extension, dpi=resolution)"
   ]
  },
  {
   "cell_type": "markdown",
   "id": "bd601c6d",
   "metadata": {
    "papermill": {
     "duration": 0.014015,
     "end_time": "2025-03-04T08:04:39.126946",
     "exception": false,
     "start_time": "2025-03-04T08:04:39.112931",
     "status": "completed"
    },
    "tags": []
   },
   "source": [
    "To get a quick way to get a feel of the type of data we are dealing with is to plot a histogram for each numerical attribute. "
   ]
  },
  {
   "cell_type": "code",
   "execution_count": 9,
   "id": "3e2a7527",
   "metadata": {
    "execution": {
     "iopub.execute_input": "2025-03-04T08:04:39.153697Z",
     "iopub.status.busy": "2025-03-04T08:04:39.153319Z",
     "iopub.status.idle": "2025-03-04T08:04:43.225338Z",
     "shell.execute_reply": "2025-03-04T08:04:43.224159Z"
    },
    "papermill": {
     "duration": 4.088124,
     "end_time": "2025-03-04T08:04:43.227285",
     "exception": false,
     "start_time": "2025-03-04T08:04:39.139161",
     "status": "completed"
    },
    "tags": []
   },
   "outputs": [
    {
     "data": {
      "image/png": "[encoded data removed]",
      "text/plain": [
       "<Figure size 1200x800 with 9 Axes>"
      ]
     },
     "metadata": {},
     "output_type": "display_data"
    }
   ],
   "source": [
    "import matplotlib.pyplot as plt\n",
    "\n",
    "\n",
    "# extra code - the next 5 lines define the default font sizes\n",
    "plt.rc('font', size=14)\n",
    "plt.rc('axes', labelsize=14, titlesize=14)\n",
    "plt.rc('legend', fontsize=14)\n",
    "plt.rc('xtick', labelsize=10)\n",
    "plt.rc('ytick', labelsize=10)\n",
    "\n",
    "housing.hist(bins=50, figsize=(12,8))\n",
    "save_fig(\"attribute_histogram_plots\")\n",
    "plt.show()"
   ]
  },
  {
   "cell_type": "markdown",
   "id": "3dcf93e8",
   "metadata": {
    "papermill": {
     "duration": 0.009699,
     "end_time": "2025-03-04T08:04:43.247408",
     "exception": false,
     "start_time": "2025-03-04T08:04:43.237709",
     "status": "completed"
    },
    "tags": []
   },
   "source": [
    "Notice a few things:\n",
    "\n",
    "* median_income => the number represent roughly tens of thousands of dollars (e.g. 3 is about $30,000)\n",
    "  \n",
    "* The housing median age and the median house value were also capped. This may be a serious problem since it is our **target** attribute. The machine learning algorithms may learn that prices never go beyond that limit. We need to check with the team to see if this is a problem or not. If it need precise predictions even beyond $500k, then we have 2 options:\n",
    "\n",
    "        1.Collect proper labels for the districts whose labels were capped.\n",
    "\n",
    "        2.Remove those districts from the training set (and also from the test set, since the system should not be evaluated poorly if it predicts values beyond $500,000).\n",
    "\n",
    "\n",
    "* The attributes have different scales.\n",
    "\n",
    "* Many histograms are _skewed right_."
   ]
  },
  {
   "cell_type": "markdown",
   "id": "2fe9d5fb",
   "metadata": {
    "papermill": {
     "duration": 0.010573,
     "end_time": "2025-03-04T08:04:43.267920",
     "exception": false,
     "start_time": "2025-03-04T08:04:43.257347",
     "status": "completed"
    },
    "tags": []
   },
   "source": [
    "## Create a Test Set\n",
    "\n",
    "Pick some instances randomly, typically 20% of the dataset (or less if the dataset is very large), and set them aside:"
   ]
  },
  {
   "cell_type": "code",
   "execution_count": 10,
   "id": "f59c3e63",
   "metadata": {
    "execution": {
     "iopub.execute_input": "2025-03-04T08:04:43.290506Z",
     "iopub.status.busy": "2025-03-04T08:04:43.290121Z",
     "iopub.status.idle": "2025-03-04T08:04:43.296146Z",
     "shell.execute_reply": "2025-03-04T08:04:43.294918Z"
    },
    "papermill": {
     "duration": 0.019399,
     "end_time": "2025-03-04T08:04:43.297880",
     "exception": false,
     "start_time": "2025-03-04T08:04:43.278481",
     "status": "completed"
    },
    "tags": []
   },
   "outputs": [],
   "source": [
    "def shuffle_and_split_data(data, test_ratio):\n",
    "    shuffled_indices = np.random.permutation(len(data))\n",
    "    test_set_size = int(len(data) * test_ratio)\n",
    "    test_indices = shuffled_indices[:test_set_size]\n",
    "    train_indices = shuffled_indices[test_set_size:]\n",
    "    return data.iloc[train_indices], data.iloc[test_indices]"
   ]
  },
  {
   "cell_type": "code",
   "execution_count": 11,
   "id": "b2df8468",
   "metadata": {
    "execution": {
     "iopub.execute_input": "2025-03-04T08:04:43.319440Z",
     "iopub.status.busy": "2025-03-04T08:04:43.319030Z",
     "iopub.status.idle": "2025-03-04T08:04:43.330655Z",
     "shell.execute_reply": "2025-03-04T08:04:43.329665Z"
    },
    "papermill": {
     "duration": 0.024533,
     "end_time": "2025-03-04T08:04:43.332547",
     "exception": false,
     "start_time": "2025-03-04T08:04:43.308014",
     "status": "completed"
    },
    "tags": []
   },
   "outputs": [
    {
     "data": {
      "text/plain": [
       "16512"
      ]
     },
     "execution_count": 11,
     "metadata": {},
     "output_type": "execute_result"
    }
   ],
   "source": [
    "train_set, test_set = shuffle_and_split_data(housing, 0.2)\n",
    "len(train_set)"
   ]
  },
  {
   "cell_type": "code",
   "execution_count": 12,
   "id": "ebf67424",
   "metadata": {
    "execution": {
     "iopub.execute_input": "2025-03-04T08:04:43.355394Z",
     "iopub.status.busy": "2025-03-04T08:04:43.354961Z",
     "iopub.status.idle": "2025-03-04T08:04:43.361164Z",
     "shell.execute_reply": "2025-03-04T08:04:43.359945Z"
    },
    "papermill": {
     "duration": 0.019525,
     "end_time": "2025-03-04T08:04:43.363025",
     "exception": false,
     "start_time": "2025-03-04T08:04:43.343500",
     "status": "completed"
    },
    "tags": []
   },
   "outputs": [
    {
     "data": {
      "text/plain": [
       "4128"
      ]
     },
     "execution_count": 12,
     "metadata": {},
     "output_type": "execute_result"
    }
   ],
   "source": [
    "len(test_set)"
   ]
  },
  {
   "cell_type": "markdown",
   "id": "f9c9591a",
   "metadata": {
    "papermill": {
     "duration": 0.009999,
     "end_time": "2025-03-04T08:04:43.383328",
     "exception": false,
     "start_time": "2025-03-04T08:04:43.373329",
     "status": "completed"
    },
    "tags": []
   },
   "source": [
    "To have a stable train/test split even after updating the dataset, a common solution is to use each instance's identifier to decide whether or not it should go in the test set."
   ]
  },
  {
   "cell_type": "code",
   "execution_count": 13,
   "id": "7156dcba",
   "metadata": {
    "execution": {
     "iopub.execute_input": "2025-03-04T08:04:43.405066Z",
     "iopub.status.busy": "2025-03-04T08:04:43.404705Z",
     "iopub.status.idle": "2025-03-04T08:04:43.410560Z",
     "shell.execute_reply": "2025-03-04T08:04:43.409331Z"
    },
    "papermill": {
     "duration": 0.019048,
     "end_time": "2025-03-04T08:04:43.412447",
     "exception": false,
     "start_time": "2025-03-04T08:04:43.393399",
     "status": "completed"
    },
    "tags": []
   },
   "outputs": [],
   "source": [
    "from zlib import crc32\n",
    "\n",
    "def is_id_in_test_set(identifier, test_ratio):\n",
    "    return crc32(np.int64(identifier)) < test_ratio *2 **32\n",
    "\n",
    "def split_data_with_id_hash(data, test_ratio, id_column):\n",
    "    ids = data[id_column]\n",
    "    in_test_set = ids.apply(lambda id_: is_id_in_test_set(id_, test_ratio))\n",
    "    return data.loc[~in_test_set], data.loc[in_test_set]"
   ]
  },
  {
   "cell_type": "markdown",
   "id": "d32f5c0e",
   "metadata": {
    "papermill": {
     "duration": 0.010372,
     "end_time": "2025-03-04T08:04:43.433781",
     "exception": false,
     "start_time": "2025-03-04T08:04:43.423409",
     "status": "completed"
    },
    "tags": []
   },
   "source": [
    "To ensure that this notebook's output remain the same every time we run it, we need to set the random seed:"
   ]
  },
  {
   "cell_type": "code",
   "execution_count": 14,
   "id": "e2b33ebf",
   "metadata": {
    "execution": {
     "iopub.execute_input": "2025-03-04T08:04:43.455707Z",
     "iopub.status.busy": "2025-03-04T08:04:43.455354Z",
     "iopub.status.idle": "2025-03-04T08:04:43.459720Z",
     "shell.execute_reply": "2025-03-04T08:04:43.458791Z"
    },
    "papermill": {
     "duration": 0.017549,
     "end_time": "2025-03-04T08:04:43.461648",
     "exception": false,
     "start_time": "2025-03-04T08:04:43.444099",
     "status": "completed"
    },
    "tags": []
   },
   "outputs": [],
   "source": [
    "np.random.seed(42)"
   ]
  },
  {
   "cell_type": "markdown",
   "id": "838d38b8",
   "metadata": {
    "papermill": {
     "duration": 0.009963,
     "end_time": "2025-03-04T08:04:43.481828",
     "exception": false,
     "start_time": "2025-03-04T08:04:43.471865",
     "status": "completed"
    },
    "tags": []
   },
   "source": [
    "Since the housing dataset does not have an identifier column. The simplest solution is to use the row index as the ID:"
   ]
  },
  {
   "cell_type": "code",
   "execution_count": 15,
   "id": "10e1c8e6",
   "metadata": {
    "execution": {
     "iopub.execute_input": "2025-03-04T08:04:43.504597Z",
     "iopub.status.busy": "2025-03-04T08:04:43.504264Z",
     "iopub.status.idle": "2025-03-04T08:04:43.533221Z",
     "shell.execute_reply": "2025-03-04T08:04:43.532141Z"
    },
    "papermill": {
     "duration": 0.042615,
     "end_time": "2025-03-04T08:04:43.535214",
     "exception": false,
     "start_time": "2025-03-04T08:04:43.492599",
     "status": "completed"
    },
    "tags": []
   },
   "outputs": [],
   "source": [
    "housing_with_id = housing.reset_index()  # adds an `index` column\n",
    "train_set, test_set = split_data_with_id_hash(housing_with_id, 0.2, \"index\")"
   ]
  },
  {
   "cell_type": "markdown",
   "id": "e980af71",
   "metadata": {
    "papermill": {
     "duration": 0.010199,
     "end_time": "2025-03-04T08:04:43.555701",
     "exception": false,
     "start_time": "2025-03-04T08:04:43.545502",
     "status": "completed"
    },
    "tags": []
   },
   "source": [
    "If we want to use the **most** stable features to build a unique identifier. We can use the district's _latitude_ & _longitude_ and we can combine them into an ID like so:"
   ]
  },
  {
   "cell_type": "code",
   "execution_count": 16,
   "id": "47dedd2d",
   "metadata": {
    "execution": {
     "iopub.execute_input": "2025-03-04T08:04:43.579238Z",
     "iopub.status.busy": "2025-03-04T08:04:43.578849Z",
     "iopub.status.idle": "2025-03-04T08:04:43.611476Z",
     "shell.execute_reply": "2025-03-04T08:04:43.610406Z"
    },
    "papermill": {
     "duration": 0.047049,
     "end_time": "2025-03-04T08:04:43.613314",
     "exception": false,
     "start_time": "2025-03-04T08:04:43.566265",
     "status": "completed"
    },
    "tags": []
   },
   "outputs": [],
   "source": [
    "housing_with_id[\"id\"] = housing[\"longitude\"] * 1000 + housing[\"latitude\"]\n",
    "train_set, test_set = split_data_with_id_hash(housing_with_id, 0.2, \"id\")"
   ]
  },
  {
   "cell_type": "markdown",
   "id": "c3aebcc5",
   "metadata": {
    "papermill": {
     "duration": 0.009779,
     "end_time": "2025-03-04T08:04:43.633989",
     "exception": false,
     "start_time": "2025-03-04T08:04:43.624210",
     "status": "completed"
    },
    "tags": []
   },
   "source": [
    "**Scikit-Learn** provides a few functions to split datasets into multiple subsets in various ways."
   ]
  },
  {
   "cell_type": "code",
   "execution_count": 17,
   "id": "e30dd448",
   "metadata": {
    "execution": {
     "iopub.execute_input": "2025-03-04T08:04:43.655192Z",
     "iopub.status.busy": "2025-03-04T08:04:43.654773Z",
     "iopub.status.idle": "2025-03-04T08:04:45.190392Z",
     "shell.execute_reply": "2025-03-04T08:04:45.189324Z"
    },
    "papermill": {
     "duration": 1.548545,
     "end_time": "2025-03-04T08:04:45.192411",
     "exception": false,
     "start_time": "2025-03-04T08:04:43.643866",
     "status": "completed"
    },
    "tags": []
   },
   "outputs": [],
   "source": [
    "from sklearn.model_selection import train_test_split\n",
    "\n",
    "train_set, test_set = train_test_split(housing, test_size=0.2, random_state=42)"
   ]
  },
  {
   "cell_type": "code",
   "execution_count": 18,
   "id": "99dd5b25",
   "metadata": {
    "execution": {
     "iopub.execute_input": "2025-03-04T08:04:45.214561Z",
     "iopub.status.busy": "2025-03-04T08:04:45.213945Z",
     "iopub.status.idle": "2025-03-04T08:04:45.224247Z",
     "shell.execute_reply": "2025-03-04T08:04:45.223145Z"
    },
    "papermill": {
     "duration": 0.023052,
     "end_time": "2025-03-04T08:04:45.225991",
     "exception": false,
     "start_time": "2025-03-04T08:04:45.202939",
     "status": "completed"
    },
    "tags": []
   },
   "outputs": [],
   "source": [
    "housing[\"income_cat\"] = pd.cut(housing[\"median_income\"],\n",
    "                              bins=[0.,1.5,3.0,4.5,6.,np.inf],\n",
    "                              labels=[1,2,3,4,5])"
   ]
  },
  {
   "cell_type": "code",
   "execution_count": 19,
   "id": "de61922f",
   "metadata": {
    "execution": {
     "iopub.execute_input": "2025-03-04T08:04:45.247648Z",
     "iopub.status.busy": "2025-03-04T08:04:45.247296Z",
     "iopub.status.idle": "2025-03-04T08:04:45.406705Z",
     "shell.execute_reply": "2025-03-04T08:04:45.405647Z"
    },
    "papermill": {
     "duration": 0.1723,
     "end_time": "2025-03-04T08:04:45.408536",
     "exception": false,
     "start_time": "2025-03-04T08:04:45.236236",
     "status": "completed"
    },
    "tags": []
   },
   "outputs": [
    {
     "data": {
      "image/png": "[encoded data removed]",
      "text/plain": [
       "<Figure size 640x480 with 1 Axes>"
      ]
     },
     "metadata": {},
     "output_type": "display_data"
    }
   ],
   "source": [
    "housing[\"income_cat\"].value_counts().sort_index().plot.bar(rot=0, grid=True)\n",
    "plt.xlabel(\"Income category\")\n",
    "plt.ylabel(\"Number of districts\")\n",
    "plt.show()"
   ]
  },
  {
   "cell_type": "markdown",
   "id": "2cddc941",
   "metadata": {
    "papermill": {
     "duration": 0.010897,
     "end_time": "2025-03-04T08:04:45.430090",
     "exception": false,
     "start_time": "2025-03-04T08:04:45.419193",
     "status": "completed"
    },
    "tags": []
   },
   "source": [
    "Having multiple splits can be useful if you want to better estimate the performance of your model, as you will see when we discuss cross-validation later in this chapter. The following code generates 10 different stratefied splits of the same dataset:"
   ]
  },
  {
   "cell_type": "code",
   "execution_count": 20,
   "id": "6fb918c8",
   "metadata": {
    "execution": {
     "iopub.execute_input": "2025-03-04T08:04:45.452855Z",
     "iopub.status.busy": "2025-03-04T08:04:45.452511Z",
     "iopub.status.idle": "2025-03-04T08:04:45.551176Z",
     "shell.execute_reply": "2025-03-04T08:04:45.550264Z"
    },
    "papermill": {
     "duration": 0.112164,
     "end_time": "2025-03-04T08:04:45.552965",
     "exception": false,
     "start_time": "2025-03-04T08:04:45.440801",
     "status": "completed"
    },
    "tags": []
   },
   "outputs": [],
   "source": [
    "from sklearn.model_selection import StratifiedShuffleSplit\n",
    "\n",
    "splitter = StratifiedShuffleSplit(n_splits=10, test_size=0.2, random_state=42)\n",
    "strat_splits=[]\n",
    "\n",
    "for train_index, test_index in splitter.split(housing, housing[\"income_cat\"]):\n",
    "    strat_train_set_n = housing.iloc[train_index]\n",
    "    strat_test_set_n = housing.iloc[test_index]\n",
    "    strat_splits.append([strat_train_set_n, strat_test_set_n])"
   ]
  },
  {
   "cell_type": "code",
   "execution_count": 21,
   "id": "d1dfb24c",
   "metadata": {
    "execution": {
     "iopub.execute_input": "2025-03-04T08:04:45.576115Z",
     "iopub.status.busy": "2025-03-04T08:04:45.575700Z",
     "iopub.status.idle": "2025-03-04T08:04:45.580149Z",
     "shell.execute_reply": "2025-03-04T08:04:45.579113Z"
    },
    "papermill": {
     "duration": 0.017541,
     "end_time": "2025-03-04T08:04:45.581731",
     "exception": false,
     "start_time": "2025-03-04T08:04:45.564190",
     "status": "completed"
    },
    "tags": []
   },
   "outputs": [],
   "source": [
    "strat_train_set, strat_test_set = strat_splits[0]"
   ]
  },
  {
   "cell_type": "markdown",
   "id": "69facb0e",
   "metadata": {
    "papermill": {
     "duration": 0.01023,
     "end_time": "2025-03-04T08:04:45.602662",
     "exception": false,
     "start_time": "2025-03-04T08:04:45.592432",
     "status": "completed"
    },
    "tags": []
   },
   "source": [
    "There's a shorter way to get a single split using the train_test_split() function with the stratify argument:"
   ]
  },
  {
   "cell_type": "code",
   "execution_count": 22,
   "id": "6128de4b",
   "metadata": {
    "execution": {
     "iopub.execute_input": "2025-03-04T08:04:45.625151Z",
     "iopub.status.busy": "2025-03-04T08:04:45.624718Z",
     "iopub.status.idle": "2025-03-04T08:04:45.640599Z",
     "shell.execute_reply": "2025-03-04T08:04:45.639629Z"
    },
    "papermill": {
     "duration": 0.029426,
     "end_time": "2025-03-04T08:04:45.642554",
     "exception": false,
     "start_time": "2025-03-04T08:04:45.613128",
     "status": "completed"
    },
    "tags": []
   },
   "outputs": [],
   "source": [
    "strat_train_set, strat_test_set = train_test_split(\n",
    "    housing, test_size=0.2, stratify=housing[\"income_cat\"],\n",
    "    random_state=42\n",
    ")"
   ]
  },
  {
   "cell_type": "markdown",
   "id": "f9de70f1",
   "metadata": {
    "papermill": {
     "duration": 0.010336,
     "end_time": "2025-03-04T08:04:45.663530",
     "exception": false,
     "start_time": "2025-03-04T08:04:45.653194",
     "status": "completed"
    },
    "tags": []
   },
   "source": [
    "Let's see if this worked as expected by start looking at the income category proportions in the test:"
   ]
  },
  {
   "cell_type": "code",
   "execution_count": 23,
   "id": "41acbe8e",
   "metadata": {
    "execution": {
     "iopub.execute_input": "2025-03-04T08:04:45.685945Z",
     "iopub.status.busy": "2025-03-04T08:04:45.685464Z",
     "iopub.status.idle": "2025-03-04T08:04:45.694789Z",
     "shell.execute_reply": "2025-03-04T08:04:45.693683Z"
    },
    "papermill": {
     "duration": 0.022635,
     "end_time": "2025-03-04T08:04:45.696566",
     "exception": false,
     "start_time": "2025-03-04T08:04:45.673931",
     "status": "completed"
    },
    "tags": []
   },
   "outputs": [
    {
     "data": {
      "text/plain": [
       "income_cat\n",
       "3    0.350533\n",
       "2    0.318798\n",
       "4    0.176357\n",
       "5    0.114341\n",
       "1    0.039971\n",
       "Name: count, dtype: float64"
      ]
     },
     "execution_count": 23,
     "metadata": {},
     "output_type": "execute_result"
    }
   ],
   "source": [
    "strat_test_set[\"income_cat\"].value_counts()/len(strat_test_set)"
   ]
  },
  {
   "cell_type": "code",
   "execution_count": 24,
   "id": "1b139feb",
   "metadata": {
    "execution": {
     "iopub.execute_input": "2025-03-04T08:04:45.719659Z",
     "iopub.status.busy": "2025-03-04T08:04:45.719310Z",
     "iopub.status.idle": "2025-03-04T08:04:45.745683Z",
     "shell.execute_reply": "2025-03-04T08:04:45.744679Z"
    },
    "papermill": {
     "duration": 0.03959,
     "end_time": "2025-03-04T08:04:45.747292",
     "exception": false,
     "start_time": "2025-03-04T08:04:45.707702",
     "status": "completed"
    },
    "tags": []
   },
   "outputs": [
    {
     "data": {
      "text/html": [
       "<div>\n",
       "<style scoped>\n",
       "    .dataframe tbody tr th:only-of-type {\n",
       "        vertical-align: middle;\n",
       "    }\n",
       "\n",
       "    .dataframe tbody tr th {\n",
       "        vertical-align: top;\n",
       "    }\n",
       "\n",
       "    .dataframe thead th {\n",
       "        text-align: right;\n",
       "    }\n",
       "</style>\n",
       "<table border=\"1\" class=\"dataframe\">\n",
       "  <thead>\n",
       "    <tr style=\"text-align: right;\">\n",
       "      <th></th>\n",
       "      <th>Overall %</th>\n",
       "      <th>Stratified %</th>\n",
       "      <th>Random %</th>\n",
       "      <th>Strat. Error %</th>\n",
       "      <th>Rand. Error %</th>\n",
       "    </tr>\n",
       "    <tr>\n",
       "      <th>Income Category</th>\n",
       "      <th></th>\n",
       "      <th></th>\n",
       "      <th></th>\n",
       "      <th></th>\n",
       "      <th></th>\n",
       "    </tr>\n",
       "  </thead>\n",
       "  <tbody>\n",
       "    <tr>\n",
       "      <th>1</th>\n",
       "      <td>3.98</td>\n",
       "      <td>4.00</td>\n",
       "      <td>4.24</td>\n",
       "      <td>0.36</td>\n",
       "      <td>6.45</td>\n",
       "    </tr>\n",
       "    <tr>\n",
       "      <th>2</th>\n",
       "      <td>31.88</td>\n",
       "      <td>31.88</td>\n",
       "      <td>30.74</td>\n",
       "      <td>-0.02</td>\n",
       "      <td>-3.59</td>\n",
       "    </tr>\n",
       "    <tr>\n",
       "      <th>3</th>\n",
       "      <td>35.06</td>\n",
       "      <td>35.05</td>\n",
       "      <td>34.52</td>\n",
       "      <td>-0.01</td>\n",
       "      <td>-1.53</td>\n",
       "    </tr>\n",
       "    <tr>\n",
       "      <th>4</th>\n",
       "      <td>17.63</td>\n",
       "      <td>17.64</td>\n",
       "      <td>18.41</td>\n",
       "      <td>0.03</td>\n",
       "      <td>4.42</td>\n",
       "    </tr>\n",
       "    <tr>\n",
       "      <th>5</th>\n",
       "      <td>11.44</td>\n",
       "      <td>11.43</td>\n",
       "      <td>12.09</td>\n",
       "      <td>-0.08</td>\n",
       "      <td>5.63</td>\n",
       "    </tr>\n",
       "  </tbody>\n",
       "</table>\n",
       "</div>"
      ],
      "text/plain": [
       "                 Overall %  Stratified %  Random %  Strat. Error %  \\\n",
       "Income Category                                                      \n",
       "1                     3.98          4.00      4.24            0.36   \n",
       "2                    31.88         31.88     30.74           -0.02   \n",
       "3                    35.06         35.05     34.52           -0.01   \n",
       "4                    17.63         17.64     18.41            0.03   \n",
       "5                    11.44         11.43     12.09           -0.08   \n",
       "\n",
       "                 Rand. Error %  \n",
       "Income Category                 \n",
       "1                         6.45  \n",
       "2                        -3.59  \n",
       "3                        -1.53  \n",
       "4                         4.42  \n",
       "5                         5.63  "
      ]
     },
     "execution_count": 24,
     "metadata": {},
     "output_type": "execute_result"
    }
   ],
   "source": [
    "# Figure 2-10\n",
    "\n",
    "def income_cat_proportions(data):\n",
    "    return data[\"income_cat\"].value_counts() / len(data)\n",
    "\n",
    "train_set, test_set = train_test_split(housing, test_size=0.2, random_state=42)\n",
    "\n",
    "compare_props = pd.DataFrame({\n",
    "    \"Overall %\": income_cat_proportions(housing),\n",
    "    \"Stratified %\": income_cat_proportions(strat_test_set),\n",
    "    \"Random %\": income_cat_proportions(test_set)\n",
    "}).sort_index()\n",
    "\n",
    "compare_props.index.name = \"Income Category\"\n",
    "compare_props[\"Strat. Error %\"] = (compare_props[\"Stratified %\"]/compare_props[\"Overall %\"] - 1)\n",
    "compare_props[\"Rand. Error %\"] = (compare_props[\"Random %\"] / compare_props[\"Overall %\"] - 1)\n",
    "\n",
    "(compare_props * 100).round(2)"
   ]
  },
  {
   "cell_type": "markdown",
   "id": "c1e18ba9",
   "metadata": {
    "papermill": {
     "duration": 0.010425,
     "end_time": "2025-03-04T08:04:45.768621",
     "exception": false,
     "start_time": "2025-03-04T08:04:45.758196",
     "status": "completed"
    },
    "tags": []
   },
   "source": [
    "Observation: The test set generated using stratified sampling has income category proportions almost identical to those in the full dataset, whereas the test set generated using purely random sampling is skewed.\n",
    "\n",
    "We won't use the income_cat column again, so we might as well drop it, reverting the data back to its original state:"
   ]
  },
  {
   "cell_type": "code",
   "execution_count": 25,
   "id": "0f2d90b6",
   "metadata": {
    "execution": {
     "iopub.execute_input": "2025-03-04T08:04:45.791256Z",
     "iopub.status.busy": "2025-03-04T08:04:45.790862Z",
     "iopub.status.idle": "2025-03-04T08:04:45.797963Z",
     "shell.execute_reply": "2025-03-04T08:04:45.797152Z"
    },
    "papermill": {
     "duration": 0.020212,
     "end_time": "2025-03-04T08:04:45.799537",
     "exception": false,
     "start_time": "2025-03-04T08:04:45.779325",
     "status": "completed"
    },
    "tags": []
   },
   "outputs": [],
   "source": [
    "for set_ in(strat_train_set, strat_test_set):\n",
    "    set_.drop(\"income_cat\", axis=1, inplace=True)"
   ]
  },
  {
   "cell_type": "code",
   "execution_count": null,
   "id": "05d721be",
   "metadata": {
    "papermill": {
     "duration": 0.010706,
     "end_time": "2025-03-04T08:04:45.821253",
     "exception": false,
     "start_time": "2025-03-04T08:04:45.810547",
     "status": "completed"
    },
    "tags": []
   },
   "outputs": [],
   "source": []
  }
 ],
 "metadata": {
  "kaggle": {
   "accelerator": "none",
   "dataSources": [
    {
     "datasetId": 5415429,
     "sourceId": 8991105,
     "sourceType": "datasetVersion"
    }
   ],
   "dockerImageVersionId": 30918,
   "isGpuEnabled": false,
   "isInternetEnabled": false,
   "language": "python",
   "sourceType": "notebook"
  },
  "kernelspec": {
   "display_name": "Python 3",
   "language": "python",
   "name": "python3"
  },
  "language_info": {
   "codemirror_mode": {
    "name": "ipython",
    "version": 3
   },
   "file_extension": ".py",
   "mimetype": "text/x-python",
   "name": "python",
   "nbconvert_exporter": "python",
   "pygments_lexer": "ipython3",
   "version": "3.10.12"
  },
  "papermill": {
   "default_parameters": {},
   "duration": 11.740198,
   "end_time": "2025-03-04T08:04:46.553612",
   "environment_variables": {},
   "exception": null,
   "input_path": "__notebook__.ipynb",
   "output_path": "__notebook__.ipynb",
   "parameters": {},
   "start_time": "2025-03-04T08:04:34.813414",
   "version": "2.6.0"
  }
 },
 "nbformat": 4,
 "nbformat_minor": 5
}
