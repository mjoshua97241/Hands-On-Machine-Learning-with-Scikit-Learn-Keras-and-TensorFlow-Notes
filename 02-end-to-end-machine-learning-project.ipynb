{
 "cells": [
  {
   "cell_type": "code",
   "execution_count": 1,
   "id": "ce41747d",
   "metadata": {
    "_cell_guid": "b1076dfc-b9ad-4769-8c92-a6c4dae69d19",
    "_uuid": "8f2839f25d086af736a60e9eeb907d3b93b6e0e5",
    "execution": {
     "iopub.execute_input": "2025-02-28T10:13:32.058557Z",
     "iopub.status.busy": "2025-02-28T10:13:32.058167Z",
     "iopub.status.idle": "2025-02-28T10:13:33.366595Z",
     "shell.execute_reply": "2025-02-28T10:13:33.365392Z"
    },
    "papermill": {
     "duration": 1.318857,
     "end_time": "2025-02-28T10:13:33.368447",
     "exception": false,
     "start_time": "2025-02-28T10:13:32.049590",
     "status": "completed"
    },
    "tags": []
   },
   "outputs": [
    {
     "name": "stdout",
     "output_type": "stream",
     "text": [
      "/kaggle/input/housing-dataset/housing.csv\n"
     ]
    }
   ],
   "source": [
    "# This Python 3 environment comes with many helpful analytics libraries installed\n",
    "# It is defined by the kaggle/python Docker image: https://github.com/kaggle/docker-python\n",
    "# For example, here's several helpful packages to load\n",
    "\n",
    "import numpy as np # linear algebra\n",
    "import pandas as pd # data processing, CSV file I/O (e.g. pd.read_csv)\n",
    "\n",
    "# Input data files are available in the read-only \"../input/\" directory\n",
    "# For example, running this (by clicking run or pressing Shift+Enter) will list all files under the input directory\n",
    "\n",
    "import os\n",
    "for dirname, _, filenames in os.walk('/kaggle/input'):\n",
    "    for filename in filenames:\n",
    "        print(os.path.join(dirname, filename))\n",
    "\n",
    "# You can write up to 20GB to the current directory (/kaggle/working/) that gets preserved as output when you create a version using \"Save & Run All\" \n",
    "# You can also write temporary files to /kaggle/temp/, but they won't be saved outside of the current session"
   ]
  },
  {
   "cell_type": "markdown",
   "id": "6e0d1ab4",
   "metadata": {
    "papermill": {
     "duration": 0.003775,
     "end_time": "2025-02-28T10:13:33.376175",
     "exception": false,
     "start_time": "2025-02-28T10:13:33.372400",
     "status": "completed"
    },
    "tags": []
   },
   "source": [
    "# Get the Data\n",
    "\n",
    "_Welcome to Machine Learning Housing Corp.! Your task is to predict median house values in California districts, given a number of features from these districts._"
   ]
  },
  {
   "cell_type": "markdown",
   "id": "7d0738f4",
   "metadata": {
    "papermill": {
     "duration": 0.003177,
     "end_time": "2025-02-28T10:13:33.383021",
     "exception": false,
     "start_time": "2025-02-28T10:13:33.379844",
     "status": "completed"
    },
    "tags": []
   },
   "source": [
    "## Download the Data"
   ]
  },
  {
   "cell_type": "code",
   "execution_count": 2,
   "id": "710690d9",
   "metadata": {
    "execution": {
     "iopub.execute_input": "2025-02-28T10:13:33.392307Z",
     "iopub.status.busy": "2025-02-28T10:13:33.391721Z",
     "iopub.status.idle": "2025-02-28T10:13:33.396430Z",
     "shell.execute_reply": "2025-02-28T10:13:33.395143Z"
    },
    "papermill": {
     "duration": 0.012127,
     "end_time": "2025-02-28T10:13:33.398938",
     "exception": false,
     "start_time": "2025-02-28T10:13:33.386811",
     "status": "completed"
    },
    "tags": []
   },
   "outputs": [],
   "source": [
    "# fetch the data\n",
    "# from pathlib import Path\n",
    "# import tarfile\n",
    "# import urllib.request\n",
    "\n",
    "# def load_housing_data():\n",
    "#     tarball_path = Path(\"datasets/housing.tgz\")\n",
    "#     if not tarball_path.is_file():\n",
    "#         Path(\"datasets\").mkdir(parents=True, exist_ok=True)\n",
    "#         url = \"https://github.com/ageron/data/raw/main/housing.tgz\"\n",
    "#         urllib.request.urlretrieve(url, tarball_path)\n",
    "#     with tarfile.open(tarball_path) as housing_tarball:\n",
    "#             housing_tarball.extractall(path=\"datasets\")\n",
    "#     return pd.read_csv(Path(\"datasets/housing/housing.csv\"))\n",
    "\n",
    "# housing = load_housing_data()"
   ]
  },
  {
   "cell_type": "markdown",
   "id": "1747d733",
   "metadata": {
    "papermill": {
     "duration": 0.003138,
     "end_time": "2025-02-28T10:13:33.406359",
     "exception": false,
     "start_time": "2025-02-28T10:13:33.403221",
     "status": "completed"
    },
    "tags": []
   },
   "source": [
    "## Another option of getting data"
   ]
  },
  {
   "cell_type": "code",
   "execution_count": 3,
   "id": "2e71a670",
   "metadata": {
    "execution": {
     "iopub.execute_input": "2025-02-28T10:13:33.414570Z",
     "iopub.status.busy": "2025-02-28T10:13:33.414230Z",
     "iopub.status.idle": "2025-02-28T10:13:33.495397Z",
     "shell.execute_reply": "2025-02-28T10:13:33.493987Z"
    },
    "papermill": {
     "duration": 0.087623,
     "end_time": "2025-02-28T10:13:33.497491",
     "exception": false,
     "start_time": "2025-02-28T10:13:33.409868",
     "status": "completed"
    },
    "tags": []
   },
   "outputs": [],
   "source": [
    "housing = pd.read_csv(\"/kaggle/input/housing-dataset/housing.csv\")"
   ]
  },
  {
   "cell_type": "markdown",
   "id": "b5f771e2",
   "metadata": {
    "papermill": {
     "duration": 0.003207,
     "end_time": "2025-02-28T10:13:33.504626",
     "exception": false,
     "start_time": "2025-02-28T10:13:33.501419",
     "status": "completed"
    },
    "tags": []
   },
   "source": [
    "## Take a Quick Look at the Data Structure"
   ]
  },
  {
   "cell_type": "code",
   "execution_count": 4,
   "id": "0cee3a25",
   "metadata": {
    "execution": {
     "iopub.execute_input": "2025-02-28T10:13:33.512896Z",
     "iopub.status.busy": "2025-02-28T10:13:33.512524Z",
     "iopub.status.idle": "2025-02-28T10:13:33.547336Z",
     "shell.execute_reply": "2025-02-28T10:13:33.546204Z"
    },
    "papermill": {
     "duration": 0.041004,
     "end_time": "2025-02-28T10:13:33.549132",
     "exception": false,
     "start_time": "2025-02-28T10:13:33.508128",
     "status": "completed"
    },
    "tags": []
   },
   "outputs": [
    {
     "data": {
      "text/html": [
       "<div>\n",
       "<style scoped>\n",
       "    .dataframe tbody tr th:only-of-type {\n",
       "        vertical-align: middle;\n",
       "    }\n",
       "\n",
       "    .dataframe tbody tr th {\n",
       "        vertical-align: top;\n",
       "    }\n",
       "\n",
       "    .dataframe thead th {\n",
       "        text-align: right;\n",
       "    }\n",
       "</style>\n",
       "<table border=\"1\" class=\"dataframe\">\n",
       "  <thead>\n",
       "    <tr style=\"text-align: right;\">\n",
       "      <th></th>\n",
       "      <th>longitude</th>\n",
       "      <th>latitude</th>\n",
       "      <th>housing_median_age</th>\n",
       "      <th>total_rooms</th>\n",
       "      <th>total_bedrooms</th>\n",
       "      <th>population</th>\n",
       "      <th>households</th>\n",
       "      <th>median_income</th>\n",
       "      <th>median_house_value</th>\n",
       "      <th>ocean_proximity</th>\n",
       "    </tr>\n",
       "  </thead>\n",
       "  <tbody>\n",
       "    <tr>\n",
       "      <th>0</th>\n",
       "      <td>-122.23</td>\n",
       "      <td>37.88</td>\n",
       "      <td>41.0</td>\n",
       "      <td>880.0</td>\n",
       "      <td>129.0</td>\n",
       "      <td>322.0</td>\n",
       "      <td>126.0</td>\n",
       "      <td>8.3252</td>\n",
       "      <td>452600.0</td>\n",
       "      <td>NEAR BAY</td>\n",
       "    </tr>\n",
       "    <tr>\n",
       "      <th>1</th>\n",
       "      <td>-122.22</td>\n",
       "      <td>37.86</td>\n",
       "      <td>21.0</td>\n",
       "      <td>7099.0</td>\n",
       "      <td>1106.0</td>\n",
       "      <td>2401.0</td>\n",
       "      <td>1138.0</td>\n",
       "      <td>8.3014</td>\n",
       "      <td>358500.0</td>\n",
       "      <td>NEAR BAY</td>\n",
       "    </tr>\n",
       "    <tr>\n",
       "      <th>2</th>\n",
       "      <td>-122.24</td>\n",
       "      <td>37.85</td>\n",
       "      <td>52.0</td>\n",
       "      <td>1467.0</td>\n",
       "      <td>190.0</td>\n",
       "      <td>496.0</td>\n",
       "      <td>177.0</td>\n",
       "      <td>7.2574</td>\n",
       "      <td>352100.0</td>\n",
       "      <td>NEAR BAY</td>\n",
       "    </tr>\n",
       "    <tr>\n",
       "      <th>3</th>\n",
       "      <td>-122.25</td>\n",
       "      <td>37.85</td>\n",
       "      <td>52.0</td>\n",
       "      <td>1274.0</td>\n",
       "      <td>235.0</td>\n",
       "      <td>558.0</td>\n",
       "      <td>219.0</td>\n",
       "      <td>5.6431</td>\n",
       "      <td>341300.0</td>\n",
       "      <td>NEAR BAY</td>\n",
       "    </tr>\n",
       "    <tr>\n",
       "      <th>4</th>\n",
       "      <td>-122.25</td>\n",
       "      <td>37.85</td>\n",
       "      <td>52.0</td>\n",
       "      <td>1627.0</td>\n",
       "      <td>280.0</td>\n",
       "      <td>565.0</td>\n",
       "      <td>259.0</td>\n",
       "      <td>3.8462</td>\n",
       "      <td>342200.0</td>\n",
       "      <td>NEAR BAY</td>\n",
       "    </tr>\n",
       "  </tbody>\n",
       "</table>\n",
       "</div>"
      ],
      "text/plain": [
       "   longitude  latitude  housing_median_age  total_rooms  total_bedrooms  \\\n",
       "0    -122.23     37.88                41.0        880.0           129.0   \n",
       "1    -122.22     37.86                21.0       7099.0          1106.0   \n",
       "2    -122.24     37.85                52.0       1467.0           190.0   \n",
       "3    -122.25     37.85                52.0       1274.0           235.0   \n",
       "4    -122.25     37.85                52.0       1627.0           280.0   \n",
       "\n",
       "   population  households  median_income  median_house_value ocean_proximity  \n",
       "0       322.0       126.0         8.3252            452600.0        NEAR BAY  \n",
       "1      2401.0      1138.0         8.3014            358500.0        NEAR BAY  \n",
       "2       496.0       177.0         7.2574            352100.0        NEAR BAY  \n",
       "3       558.0       219.0         5.6431            341300.0        NEAR BAY  \n",
       "4       565.0       259.0         3.8462            342200.0        NEAR BAY  "
      ]
     },
     "execution_count": 4,
     "metadata": {},
     "output_type": "execute_result"
    }
   ],
   "source": [
    "housing.head()"
   ]
  },
  {
   "cell_type": "markdown",
   "id": "fe20659b",
   "metadata": {
    "papermill": {
     "duration": 0.003684,
     "end_time": "2025-02-28T10:13:33.556706",
     "exception": false,
     "start_time": "2025-02-28T10:13:33.553022",
     "status": "completed"
    },
    "tags": []
   },
   "source": [
    "To get the quick description of the data (total number of rows, attribute's type, and the number of non-null values):"
   ]
  },
  {
   "cell_type": "code",
   "execution_count": 5,
   "id": "f4f73c5e",
   "metadata": {
    "execution": {
     "iopub.execute_input": "2025-02-28T10:13:33.565485Z",
     "iopub.status.busy": "2025-02-28T10:13:33.565120Z",
     "iopub.status.idle": "2025-02-28T10:13:33.604743Z",
     "shell.execute_reply": "2025-02-28T10:13:33.603378Z"
    },
    "papermill": {
     "duration": 0.045984,
     "end_time": "2025-02-28T10:13:33.606624",
     "exception": false,
     "start_time": "2025-02-28T10:13:33.560640",
     "status": "completed"
    },
    "tags": []
   },
   "outputs": [
    {
     "name": "stdout",
     "output_type": "stream",
     "text": [
      "<class 'pandas.core.frame.DataFrame'>\n",
      "RangeIndex: 20640 entries, 0 to 20639\n",
      "Data columns (total 10 columns):\n",
      " #   Column              Non-Null Count  Dtype  \n",
      "---  ------              --------------  -----  \n",
      " 0   longitude           20640 non-null  float64\n",
      " 1   latitude            20640 non-null  float64\n",
      " 2   housing_median_age  20640 non-null  float64\n",
      " 3   total_rooms         20640 non-null  float64\n",
      " 4   total_bedrooms      20433 non-null  float64\n",
      " 5   population          20640 non-null  float64\n",
      " 6   households          20640 non-null  float64\n",
      " 7   median_income       20640 non-null  float64\n",
      " 8   median_house_value  20640 non-null  float64\n",
      " 9   ocean_proximity     20640 non-null  object \n",
      "dtypes: float64(9), object(1)\n",
      "memory usage: 1.6+ MB\n"
     ]
    }
   ],
   "source": [
    "housing.info()"
   ]
  },
  {
   "cell_type": "markdown",
   "id": "25aa0f22",
   "metadata": {
    "papermill": {
     "duration": 0.003798,
     "end_time": "2025-02-28T10:13:33.614381",
     "exception": false,
     "start_time": "2025-02-28T10:13:33.610583",
     "status": "completed"
    },
    "tags": []
   },
   "source": [
    "The \"ocean_proximity\" column was repetitive, meaning it is probably a categorical attribute. To find out what categories exist and how many districts belong to each category by using the value_counts() method:"
   ]
  },
  {
   "cell_type": "code",
   "execution_count": 6,
   "id": "5537f140",
   "metadata": {
    "execution": {
     "iopub.execute_input": "2025-02-28T10:13:33.623527Z",
     "iopub.status.busy": "2025-02-28T10:13:33.623032Z",
     "iopub.status.idle": "2025-02-28T10:13:33.632852Z",
     "shell.execute_reply": "2025-02-28T10:13:33.631652Z"
    },
    "papermill": {
     "duration": 0.016204,
     "end_time": "2025-02-28T10:13:33.634471",
     "exception": false,
     "start_time": "2025-02-28T10:13:33.618267",
     "status": "completed"
    },
    "tags": []
   },
   "outputs": [
    {
     "data": {
      "text/plain": [
       "ocean_proximity\n",
       "<1H OCEAN     9136\n",
       "INLAND        6551\n",
       "NEAR OCEAN    2658\n",
       "NEAR BAY      2290\n",
       "ISLAND           5\n",
       "Name: count, dtype: int64"
      ]
     },
     "execution_count": 6,
     "metadata": {},
     "output_type": "execute_result"
    }
   ],
   "source": [
    "housing['ocean_proximity'].value_counts()"
   ]
  },
  {
   "cell_type": "markdown",
   "id": "b67d2b45",
   "metadata": {
    "papermill": {
     "duration": 0.003879,
     "end_time": "2025-02-28T10:13:33.642604",
     "exception": false,
     "start_time": "2025-02-28T10:13:33.638725",
     "status": "completed"
    },
    "tags": []
   },
   "source": [
    "To show the summary of the numerical attributes, we will use describe() method."
   ]
  },
  {
   "cell_type": "code",
   "execution_count": 7,
   "id": "195e6008",
   "metadata": {
    "execution": {
     "iopub.execute_input": "2025-02-28T10:13:33.652036Z",
     "iopub.status.busy": "2025-02-28T10:13:33.651624Z",
     "iopub.status.idle": "2025-02-28T10:13:33.698871Z",
     "shell.execute_reply": "2025-02-28T10:13:33.697747Z"
    },
    "papermill": {
     "duration": 0.054058,
     "end_time": "2025-02-28T10:13:33.700660",
     "exception": false,
     "start_time": "2025-02-28T10:13:33.646602",
     "status": "completed"
    },
    "tags": []
   },
   "outputs": [
    {
     "data": {
      "text/html": [
       "<div>\n",
       "<style scoped>\n",
       "    .dataframe tbody tr th:only-of-type {\n",
       "        vertical-align: middle;\n",
       "    }\n",
       "\n",
       "    .dataframe tbody tr th {\n",
       "        vertical-align: top;\n",
       "    }\n",
       "\n",
       "    .dataframe thead th {\n",
       "        text-align: right;\n",
       "    }\n",
       "</style>\n",
       "<table border=\"1\" class=\"dataframe\">\n",
       "  <thead>\n",
       "    <tr style=\"text-align: right;\">\n",
       "      <th></th>\n",
       "      <th>longitude</th>\n",
       "      <th>latitude</th>\n",
       "      <th>housing_median_age</th>\n",
       "      <th>total_rooms</th>\n",
       "      <th>total_bedrooms</th>\n",
       "      <th>population</th>\n",
       "      <th>households</th>\n",
       "      <th>median_income</th>\n",
       "      <th>median_house_value</th>\n",
       "    </tr>\n",
       "  </thead>\n",
       "  <tbody>\n",
       "    <tr>\n",
       "      <th>count</th>\n",
       "      <td>20640.000000</td>\n",
       "      <td>20640.000000</td>\n",
       "      <td>20640.000000</td>\n",
       "      <td>20640.000000</td>\n",
       "      <td>20433.000000</td>\n",
       "      <td>20640.000000</td>\n",
       "      <td>20640.000000</td>\n",
       "      <td>20640.000000</td>\n",
       "      <td>20640.000000</td>\n",
       "    </tr>\n",
       "    <tr>\n",
       "      <th>mean</th>\n",
       "      <td>-119.569704</td>\n",
       "      <td>35.631861</td>\n",
       "      <td>28.639486</td>\n",
       "      <td>2635.763081</td>\n",
       "      <td>537.870553</td>\n",
       "      <td>1425.476744</td>\n",
       "      <td>499.539680</td>\n",
       "      <td>3.870671</td>\n",
       "      <td>206855.816909</td>\n",
       "    </tr>\n",
       "    <tr>\n",
       "      <th>std</th>\n",
       "      <td>2.003532</td>\n",
       "      <td>2.135952</td>\n",
       "      <td>12.585558</td>\n",
       "      <td>2181.615252</td>\n",
       "      <td>421.385070</td>\n",
       "      <td>1132.462122</td>\n",
       "      <td>382.329753</td>\n",
       "      <td>1.899822</td>\n",
       "      <td>115395.615874</td>\n",
       "    </tr>\n",
       "    <tr>\n",
       "      <th>min</th>\n",
       "      <td>-124.350000</td>\n",
       "      <td>32.540000</td>\n",
       "      <td>1.000000</td>\n",
       "      <td>2.000000</td>\n",
       "      <td>1.000000</td>\n",
       "      <td>3.000000</td>\n",
       "      <td>1.000000</td>\n",
       "      <td>0.499900</td>\n",
       "      <td>14999.000000</td>\n",
       "    </tr>\n",
       "    <tr>\n",
       "      <th>25%</th>\n",
       "      <td>-121.800000</td>\n",
       "      <td>33.930000</td>\n",
       "      <td>18.000000</td>\n",
       "      <td>1447.750000</td>\n",
       "      <td>296.000000</td>\n",
       "      <td>787.000000</td>\n",
       "      <td>280.000000</td>\n",
       "      <td>2.563400</td>\n",
       "      <td>119600.000000</td>\n",
       "    </tr>\n",
       "    <tr>\n",
       "      <th>50%</th>\n",
       "      <td>-118.490000</td>\n",
       "      <td>34.260000</td>\n",
       "      <td>29.000000</td>\n",
       "      <td>2127.000000</td>\n",
       "      <td>435.000000</td>\n",
       "      <td>1166.000000</td>\n",
       "      <td>409.000000</td>\n",
       "      <td>3.534800</td>\n",
       "      <td>179700.000000</td>\n",
       "    </tr>\n",
       "    <tr>\n",
       "      <th>75%</th>\n",
       "      <td>-118.010000</td>\n",
       "      <td>37.710000</td>\n",
       "      <td>37.000000</td>\n",
       "      <td>3148.000000</td>\n",
       "      <td>647.000000</td>\n",
       "      <td>1725.000000</td>\n",
       "      <td>605.000000</td>\n",
       "      <td>4.743250</td>\n",
       "      <td>264725.000000</td>\n",
       "    </tr>\n",
       "    <tr>\n",
       "      <th>max</th>\n",
       "      <td>-114.310000</td>\n",
       "      <td>41.950000</td>\n",
       "      <td>52.000000</td>\n",
       "      <td>39320.000000</td>\n",
       "      <td>6445.000000</td>\n",
       "      <td>35682.000000</td>\n",
       "      <td>6082.000000</td>\n",
       "      <td>15.000100</td>\n",
       "      <td>500001.000000</td>\n",
       "    </tr>\n",
       "  </tbody>\n",
       "</table>\n",
       "</div>"
      ],
      "text/plain": [
       "          longitude      latitude  housing_median_age   total_rooms  \\\n",
       "count  20640.000000  20640.000000        20640.000000  20640.000000   \n",
       "mean    -119.569704     35.631861           28.639486   2635.763081   \n",
       "std        2.003532      2.135952           12.585558   2181.615252   \n",
       "min     -124.350000     32.540000            1.000000      2.000000   \n",
       "25%     -121.800000     33.930000           18.000000   1447.750000   \n",
       "50%     -118.490000     34.260000           29.000000   2127.000000   \n",
       "75%     -118.010000     37.710000           37.000000   3148.000000   \n",
       "max     -114.310000     41.950000           52.000000  39320.000000   \n",
       "\n",
       "       total_bedrooms    population    households  median_income  \\\n",
       "count    20433.000000  20640.000000  20640.000000   20640.000000   \n",
       "mean       537.870553   1425.476744    499.539680       3.870671   \n",
       "std        421.385070   1132.462122    382.329753       1.899822   \n",
       "min          1.000000      3.000000      1.000000       0.499900   \n",
       "25%        296.000000    787.000000    280.000000       2.563400   \n",
       "50%        435.000000   1166.000000    409.000000       3.534800   \n",
       "75%        647.000000   1725.000000    605.000000       4.743250   \n",
       "max       6445.000000  35682.000000   6082.000000      15.000100   \n",
       "\n",
       "       median_house_value  \n",
       "count        20640.000000  \n",
       "mean        206855.816909  \n",
       "std         115395.615874  \n",
       "min          14999.000000  \n",
       "25%         119600.000000  \n",
       "50%         179700.000000  \n",
       "75%         264725.000000  \n",
       "max         500001.000000  "
      ]
     },
     "execution_count": 7,
     "metadata": {},
     "output_type": "execute_result"
    }
   ],
   "source": [
    "housing.describe()"
   ]
  },
  {
   "cell_type": "code",
   "execution_count": null,
   "id": "60914114",
   "metadata": {
    "papermill": {
     "duration": 0.003981,
     "end_time": "2025-02-28T10:13:33.709026",
     "exception": false,
     "start_time": "2025-02-28T10:13:33.705045",
     "status": "completed"
    },
    "tags": []
   },
   "outputs": [],
   "source": []
  }
 ],
 "metadata": {
  "kaggle": {
   "accelerator": "none",
   "dataSources": [
    {
     "datasetId": 5415429,
     "sourceId": 8991105,
     "sourceType": "datasetVersion"
    }
   ],
   "dockerImageVersionId": 30918,
   "isGpuEnabled": false,
   "isInternetEnabled": false,
   "language": "python",
   "sourceType": "notebook"
  },
  "kernelspec": {
   "display_name": "Python 3",
   "language": "python",
   "name": "python3"
  },
  "language_info": {
   "codemirror_mode": {
    "name": "ipython",
    "version": 3
   },
   "file_extension": ".py",
   "mimetype": "text/x-python",
   "name": "python",
   "nbconvert_exporter": "python",
   "pygments_lexer": "ipython3",
   "version": "3.10.12"
  },
  "papermill": {
   "default_parameters": {},
   "duration": 5.511084,
   "end_time": "2025-02-28T10:13:34.333134",
   "environment_variables": {},
   "exception": null,
   "input_path": "__notebook__.ipynb",
   "output_path": "__notebook__.ipynb",
   "parameters": {},
   "start_time": "2025-02-28T10:13:28.822050",
   "version": "2.6.0"
  }
 },
 "nbformat": 4,
 "nbformat_minor": 5
}
